{
 "cells": [
  {
   "cell_type": "code",
   "execution_count": 1,
   "metadata": {
    "collapsed": false
   },
   "outputs": [
    {
     "name": "stdout",
     "output_type": "stream",
     "text": [
      "A newer version of ndio is available. 'pip install -U ndio' to update. Pass 'suppress_warnings=True' to the neurodata constructor to suppress this message.\n"
     ]
    }
   ],
   "source": [
    "import ndio.remote.neurodata as neurodata\n",
    "nd = neurodata()"
   ]
  },
  {
   "cell_type": "code",
   "execution_count": 10,
   "metadata": {
    "collapsed": false
   },
   "outputs": [],
   "source": [
    "im_token = 'S1_proj4'\n",
    "anno_token = 'xbrain_rfr1'\n",
    "x = [610, 2010]\n",
    "y = [1, 2480]\n",
    "z = [1000,1010]#[390, 2014]\n",
    "\n",
    "im = nd.get_cutout(im_token,'image', x[0],x[1],y[0],y[1],z[0],z[1],resolution = 0)\n",
    "cellseg = nd.get_cutout(anno_token,'cell_seg', x[0],x[1],y[0],y[1],z[0],z[1],resolution = 0)\n",
    "vesselseg = nd.get_cutout(anno_token,'vessel_seg', x[0],x[1],y[0],y[1],z[0],z[1],resolution = 0)\n",
    "cellprob = nd.get_cutout(anno_token,'cell_prob', x[0],x[1],y[0],y[1],z[0],z[1],resolution = 0)\n",
    "vesselprob = nd.get_cutout(anno_token,'vessel_prob', x[0],x[1],y[0],y[1],z[0],z[1],resolution = 0)"
   ]
  },
  {
   "cell_type": "code",
   "execution_count": 11,
   "metadata": {
    "collapsed": false
   },
   "outputs": [
    {
     "data": {
      "image/png": "[encoded data removed]",
      "text/plain": [
       "<matplotlib.figure.Figure at 0x110470f50>"
      ]
     },
     "metadata": {},
     "output_type": "display_data"
    }
   ],
   "source": [
    "%matplotlib inline\n",
    "import ndparse as ndp\n",
    "\n",
    "ndp.plot(cellseg, slice = 5)"
   ]
  },
  {
   "cell_type": "code",
   "execution_count": null,
   "metadata": {
    "collapsed": true
   },
   "outputs": [],
   "source": [
    "# TODO: almost working example - need to preallocate arrays, and probably break into separate calls for memory constraints\n",
    "\n",
    "#for z in range(390,2014,16):\n",
    "#    print z\n",
    "#    x = [610, 2010]\n",
    "#    y = [1, 2480]\n",
    "#    z = [z, z + 16]\n",
    "\n",
    "#    im = nd.get_cutout(im_token,'image', x[0],x[1],y[0],y[1],z[0],z[1],resolution = 0)\n",
    "#    cellseg = nd.get_cutout(anno_token,'cell_seg', x[0],x[1],y[0],y[1],z[0],z[1],resolution = 0)\n",
    "#    vesselseg = nd.get_cutout(anno_token,'vessel_seg', x[0],x[1],y[0],y[1],z[0],z[1],resolution = 0)\n",
    "#    cellprob = nd.get_cutout(anno_token,'cell_prob', x[0],x[1],y[0],y[1],z[0],z[1],resolution = 0)\n",
    "#    vesselprob = nd.get_cutout(anno_token,'vessel_prob', x[0],x[1],y[0],y[1],z[0],z[1],resolution = 0)"
   ]
  }
 ],
 "metadata": {
  "kernelspec": {
   "display_name": "Python 2",
   "language": "python",
   "name": "python2"
  },
  "language_info": {
   "codemirror_mode": {
    "name": "ipython",
    "version": 2
   },
   "file_extension": ".py",
   "mimetype": "text/x-python",
   "name": "python",
   "nbconvert_exporter": "python",
   "pygments_lexer": "ipython2",
   "version": "2.7.11"
  }
 },
 "nbformat": 4,
 "nbformat_minor": 0
}
